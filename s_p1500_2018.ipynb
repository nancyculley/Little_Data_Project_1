{
 "cells": [
  {
   "cell_type": "code",
   "execution_count": 4,
   "metadata": {},
   "outputs": [],
   "source": [
    "%matplotlib inline\n",
    "\n",
    "# Dependencies and Setup\n",
    "import seaborn as sns\n",
    "import matplotlib.pyplot as plt\n",
    "import pandas as pd\n",
    "import numpy as np"
   ]
  },
  {
   "cell_type": "code",
   "execution_count": 5,
   "metadata": {},
   "outputs": [
    {
     "ename": "FileNotFoundError",
     "evalue": "File b'resources/Hurricane_data_all.csv' does not exist",
     "output_type": "error",
     "traceback": [
      "\u001b[1;31m---------------------------------------------------------------------------\u001b[0m",
      "\u001b[1;31mFileNotFoundError\u001b[0m                         Traceback (most recent call last)",
      "\u001b[1;32m<ipython-input-5-3c29a4889304>\u001b[0m in \u001b[0;36m<module>\u001b[1;34m()\u001b[0m\n\u001b[0;32m      3\u001b[0m \u001b[1;33m\u001b[0m\u001b[0m\n\u001b[0;32m      4\u001b[0m \u001b[1;31m# Read the Hurricane CSV files\u001b[0m\u001b[1;33m\u001b[0m\u001b[1;33m\u001b[0m\u001b[0m\n\u001b[1;32m----> 5\u001b[1;33m \u001b[0mhurricanes\u001b[0m \u001b[1;33m=\u001b[0m \u001b[0mpd\u001b[0m\u001b[1;33m.\u001b[0m\u001b[0mread_csv\u001b[0m\u001b[1;33m(\u001b[0m\u001b[0mhurricanes\u001b[0m\u001b[1;33m)\u001b[0m\u001b[1;33m\u001b[0m\u001b[0m\n\u001b[0m\u001b[0;32m      6\u001b[0m \u001b[1;33m\u001b[0m\u001b[0m\n\u001b[0;32m      7\u001b[0m \u001b[1;31m# Load Index data\u001b[0m\u001b[1;33m\u001b[0m\u001b[1;33m\u001b[0m\u001b[0m\n",
      "\u001b[1;32m~\\AppData\\Local\\Continuum\\anaconda3\\lib\\site-packages\\pandas\\io\\parsers.py\u001b[0m in \u001b[0;36mparser_f\u001b[1;34m(filepath_or_buffer, sep, delimiter, header, names, index_col, usecols, squeeze, prefix, mangle_dupe_cols, dtype, engine, converters, true_values, false_values, skipinitialspace, skiprows, nrows, na_values, keep_default_na, na_filter, verbose, skip_blank_lines, parse_dates, infer_datetime_format, keep_date_col, date_parser, dayfirst, iterator, chunksize, compression, thousands, decimal, lineterminator, quotechar, quoting, escapechar, comment, encoding, dialect, tupleize_cols, error_bad_lines, warn_bad_lines, skipfooter, doublequote, delim_whitespace, low_memory, memory_map, float_precision)\u001b[0m\n\u001b[0;32m    676\u001b[0m                     skip_blank_lines=skip_blank_lines)\n\u001b[0;32m    677\u001b[0m \u001b[1;33m\u001b[0m\u001b[0m\n\u001b[1;32m--> 678\u001b[1;33m         \u001b[1;32mreturn\u001b[0m \u001b[0m_read\u001b[0m\u001b[1;33m(\u001b[0m\u001b[0mfilepath_or_buffer\u001b[0m\u001b[1;33m,\u001b[0m \u001b[0mkwds\u001b[0m\u001b[1;33m)\u001b[0m\u001b[1;33m\u001b[0m\u001b[0m\n\u001b[0m\u001b[0;32m    679\u001b[0m \u001b[1;33m\u001b[0m\u001b[0m\n\u001b[0;32m    680\u001b[0m     \u001b[0mparser_f\u001b[0m\u001b[1;33m.\u001b[0m\u001b[0m__name__\u001b[0m \u001b[1;33m=\u001b[0m \u001b[0mname\u001b[0m\u001b[1;33m\u001b[0m\u001b[0m\n",
      "\u001b[1;32m~\\AppData\\Local\\Continuum\\anaconda3\\lib\\site-packages\\pandas\\io\\parsers.py\u001b[0m in \u001b[0;36m_read\u001b[1;34m(filepath_or_buffer, kwds)\u001b[0m\n\u001b[0;32m    438\u001b[0m \u001b[1;33m\u001b[0m\u001b[0m\n\u001b[0;32m    439\u001b[0m     \u001b[1;31m# Create the parser.\u001b[0m\u001b[1;33m\u001b[0m\u001b[1;33m\u001b[0m\u001b[0m\n\u001b[1;32m--> 440\u001b[1;33m     \u001b[0mparser\u001b[0m \u001b[1;33m=\u001b[0m \u001b[0mTextFileReader\u001b[0m\u001b[1;33m(\u001b[0m\u001b[0mfilepath_or_buffer\u001b[0m\u001b[1;33m,\u001b[0m \u001b[1;33m**\u001b[0m\u001b[0mkwds\u001b[0m\u001b[1;33m)\u001b[0m\u001b[1;33m\u001b[0m\u001b[0m\n\u001b[0m\u001b[0;32m    441\u001b[0m \u001b[1;33m\u001b[0m\u001b[0m\n\u001b[0;32m    442\u001b[0m     \u001b[1;32mif\u001b[0m \u001b[0mchunksize\u001b[0m \u001b[1;32mor\u001b[0m \u001b[0miterator\u001b[0m\u001b[1;33m:\u001b[0m\u001b[1;33m\u001b[0m\u001b[0m\n",
      "\u001b[1;32m~\\AppData\\Local\\Continuum\\anaconda3\\lib\\site-packages\\pandas\\io\\parsers.py\u001b[0m in \u001b[0;36m__init__\u001b[1;34m(self, f, engine, **kwds)\u001b[0m\n\u001b[0;32m    785\u001b[0m             \u001b[0mself\u001b[0m\u001b[1;33m.\u001b[0m\u001b[0moptions\u001b[0m\u001b[1;33m[\u001b[0m\u001b[1;34m'has_index_names'\u001b[0m\u001b[1;33m]\u001b[0m \u001b[1;33m=\u001b[0m \u001b[0mkwds\u001b[0m\u001b[1;33m[\u001b[0m\u001b[1;34m'has_index_names'\u001b[0m\u001b[1;33m]\u001b[0m\u001b[1;33m\u001b[0m\u001b[0m\n\u001b[0;32m    786\u001b[0m \u001b[1;33m\u001b[0m\u001b[0m\n\u001b[1;32m--> 787\u001b[1;33m         \u001b[0mself\u001b[0m\u001b[1;33m.\u001b[0m\u001b[0m_make_engine\u001b[0m\u001b[1;33m(\u001b[0m\u001b[0mself\u001b[0m\u001b[1;33m.\u001b[0m\u001b[0mengine\u001b[0m\u001b[1;33m)\u001b[0m\u001b[1;33m\u001b[0m\u001b[0m\n\u001b[0m\u001b[0;32m    788\u001b[0m \u001b[1;33m\u001b[0m\u001b[0m\n\u001b[0;32m    789\u001b[0m     \u001b[1;32mdef\u001b[0m \u001b[0mclose\u001b[0m\u001b[1;33m(\u001b[0m\u001b[0mself\u001b[0m\u001b[1;33m)\u001b[0m\u001b[1;33m:\u001b[0m\u001b[1;33m\u001b[0m\u001b[0m\n",
      "\u001b[1;32m~\\AppData\\Local\\Continuum\\anaconda3\\lib\\site-packages\\pandas\\io\\parsers.py\u001b[0m in \u001b[0;36m_make_engine\u001b[1;34m(self, engine)\u001b[0m\n\u001b[0;32m   1012\u001b[0m     \u001b[1;32mdef\u001b[0m \u001b[0m_make_engine\u001b[0m\u001b[1;33m(\u001b[0m\u001b[0mself\u001b[0m\u001b[1;33m,\u001b[0m \u001b[0mengine\u001b[0m\u001b[1;33m=\u001b[0m\u001b[1;34m'c'\u001b[0m\u001b[1;33m)\u001b[0m\u001b[1;33m:\u001b[0m\u001b[1;33m\u001b[0m\u001b[0m\n\u001b[0;32m   1013\u001b[0m         \u001b[1;32mif\u001b[0m \u001b[0mengine\u001b[0m \u001b[1;33m==\u001b[0m \u001b[1;34m'c'\u001b[0m\u001b[1;33m:\u001b[0m\u001b[1;33m\u001b[0m\u001b[0m\n\u001b[1;32m-> 1014\u001b[1;33m             \u001b[0mself\u001b[0m\u001b[1;33m.\u001b[0m\u001b[0m_engine\u001b[0m \u001b[1;33m=\u001b[0m \u001b[0mCParserWrapper\u001b[0m\u001b[1;33m(\u001b[0m\u001b[0mself\u001b[0m\u001b[1;33m.\u001b[0m\u001b[0mf\u001b[0m\u001b[1;33m,\u001b[0m \u001b[1;33m**\u001b[0m\u001b[0mself\u001b[0m\u001b[1;33m.\u001b[0m\u001b[0moptions\u001b[0m\u001b[1;33m)\u001b[0m\u001b[1;33m\u001b[0m\u001b[0m\n\u001b[0m\u001b[0;32m   1015\u001b[0m         \u001b[1;32melse\u001b[0m\u001b[1;33m:\u001b[0m\u001b[1;33m\u001b[0m\u001b[0m\n\u001b[0;32m   1016\u001b[0m             \u001b[1;32mif\u001b[0m \u001b[0mengine\u001b[0m \u001b[1;33m==\u001b[0m \u001b[1;34m'python'\u001b[0m\u001b[1;33m:\u001b[0m\u001b[1;33m\u001b[0m\u001b[0m\n",
      "\u001b[1;32m~\\AppData\\Local\\Continuum\\anaconda3\\lib\\site-packages\\pandas\\io\\parsers.py\u001b[0m in \u001b[0;36m__init__\u001b[1;34m(self, src, **kwds)\u001b[0m\n\u001b[0;32m   1706\u001b[0m         \u001b[0mkwds\u001b[0m\u001b[1;33m[\u001b[0m\u001b[1;34m'usecols'\u001b[0m\u001b[1;33m]\u001b[0m \u001b[1;33m=\u001b[0m \u001b[0mself\u001b[0m\u001b[1;33m.\u001b[0m\u001b[0musecols\u001b[0m\u001b[1;33m\u001b[0m\u001b[0m\n\u001b[0;32m   1707\u001b[0m \u001b[1;33m\u001b[0m\u001b[0m\n\u001b[1;32m-> 1708\u001b[1;33m         \u001b[0mself\u001b[0m\u001b[1;33m.\u001b[0m\u001b[0m_reader\u001b[0m \u001b[1;33m=\u001b[0m \u001b[0mparsers\u001b[0m\u001b[1;33m.\u001b[0m\u001b[0mTextReader\u001b[0m\u001b[1;33m(\u001b[0m\u001b[0msrc\u001b[0m\u001b[1;33m,\u001b[0m \u001b[1;33m**\u001b[0m\u001b[0mkwds\u001b[0m\u001b[1;33m)\u001b[0m\u001b[1;33m\u001b[0m\u001b[0m\n\u001b[0m\u001b[0;32m   1709\u001b[0m \u001b[1;33m\u001b[0m\u001b[0m\n\u001b[0;32m   1710\u001b[0m         \u001b[0mpassed_names\u001b[0m \u001b[1;33m=\u001b[0m \u001b[0mself\u001b[0m\u001b[1;33m.\u001b[0m\u001b[0mnames\u001b[0m \u001b[1;32mis\u001b[0m \u001b[1;32mNone\u001b[0m\u001b[1;33m\u001b[0m\u001b[0m\n",
      "\u001b[1;32mpandas\\_libs\\parsers.pyx\u001b[0m in \u001b[0;36mpandas._libs.parsers.TextReader.__cinit__\u001b[1;34m()\u001b[0m\n",
      "\u001b[1;32mpandas\\_libs\\parsers.pyx\u001b[0m in \u001b[0;36mpandas._libs.parsers.TextReader._setup_parser_source\u001b[1;34m()\u001b[0m\n",
      "\u001b[1;31mFileNotFoundError\u001b[0m: File b'resources/Hurricane_data_all.csv' does not exist"
     ]
    }
   ],
   "source": [
    "# Load Hurricane Data\n",
    "hurricanes = \"resources/Hurricane_data_all.csv\"\n",
    "\n",
    "# Read the Hurricane CSV files\n",
    "hurricanes = pd.read_csv(hurricanes)\n",
    "\n",
    "# Load Index data\n",
    "sp1500 = \"resources/S&P1500_Sector_All.csv\"\n",
    "comm_services = \"resources/Communication_Services.csv\"\n",
    "cons_discrete = \"resources/Consumer_Discretionary.csv\"\n",
    "cons_staple = \"resources/Consumer_Staples.csv\"\n",
    "energy = \"resources/Energy.csv\"\n",
    "fin = \"resources/Financials.csv\"\n",
    "hlth_care = \"resources/Health_Care.csv\"\n",
    "i_t = \"resources/Info_Technology.csv\"\n",
    "materials = \"resources/Materials.csv\"\n",
    "real_estate = \"resources/Real_Estate.csv\"\n",
    "industrial = \"resources/Industrials.csv\"\n",
    "utilities = \"resources/Utilities.csv\"\n",
    "\n",
    "# Read the Index CSV files\n",
    "sp1500 = pd.read_csv(sp1500)\n",
    "comm_services = pd.read_csv(comm_services)\n",
    "cons_discrete = pd.read_csv(cons_discrete)   \n",
    "cons_staple = pd.read_csv(cons_staple)\n",
    "energy = pd.read_csv(energy)\n",
    "fin  = pd.read_csv(fin)\n",
    "hlth_care  = pd.read_csv(hlth_care)\n",
    "i_t = pd.read_csv(i_t)\n",
    "materials = pd.read_csv(materials)\n",
    "real_estate = pd.read_csv(real_estate)\n",
    "industrial = pd.read_csv(industrial)\n",
    "utilities  = pd.read_csv(utilities)"
   ]
  },
  {
   "cell_type": "code",
   "execution_count": 3,
   "metadata": {},
   "outputs": [
    {
     "ename": "AttributeError",
     "evalue": "'str' object has no attribute 'info'",
     "output_type": "error",
     "traceback": [
      "\u001b[1;31m---------------------------------------------------------------------------\u001b[0m",
      "\u001b[1;31mAttributeError\u001b[0m                            Traceback (most recent call last)",
      "\u001b[1;32m<ipython-input-3-8cd4aeee113d>\u001b[0m in \u001b[0;36m<module>\u001b[1;34m()\u001b[0m\n\u001b[1;32m----> 1\u001b[1;33m \u001b[0mhurricanes\u001b[0m\u001b[1;33m.\u001b[0m\u001b[0minfo\u001b[0m\u001b[1;33m\u001b[0m\u001b[0m\n\u001b[0m",
      "\u001b[1;31mAttributeError\u001b[0m: 'str' object has no attribute 'info'"
     ]
    }
   ],
   "source": [
    "hurricanes.info"
   ]
  },
  {
   "cell_type": "code",
   "execution_count": null,
   "metadata": {},
   "outputs": [],
   "source": [
    "sp1500.head()\n",
    "#comm_services.head()\n",
    "#cons_discrete.head()\n",
    "#cons_staple.head()\n",
    "#energy.head()\n",
    "# fin.head()\n",
    "#hlth_care.head()\n",
    "#i_t.head()\n",
    "#materials.head()\n",
    "#real_estate.head()\n",
    "#industrial.head()\n",
    "#utilities.head()"
   ]
  },
  {
   "cell_type": "code",
   "execution_count": null,
   "metadata": {},
   "outputs": [],
   "source": [
    "# Fix columns with slightly different formatting, to make all uniform (i.e., Communication and Real Estate cols)\n",
    "sp1500.columns = sp1500.columns.str.replace('-SEC','- SEC').str.replace('1500 /','1500')\n",
    "\n",
    "# Delete all special characters by replacing with empty string\n",
    "sp1500.columns = sp1500.columns.str.replace(r'(','').str.replace(r')','')\n",
    "\n",
    "# Remove remaining text we don't want\n",
    "sp1500.columns = sp1500.columns.str.replace('INDEX S&P Composite 1500 ','').str.replace(' - SEC - Total Return ','')\n",
    "# replaces 3 back to back spaces left over after removing other text\n",
    "sp1500.columns = sp1500.columns.str.replace('   ','') \n",
    "\n",
    "# Replace space with underscore for ease of referencing column later on\n",
    "sp1500.columns = sp1500.columns.str.replace(' ','_')\n",
    "\n",
    "# Display the data table to see new columns\n",
    "sp1500.head()"
   ]
  },
  {
   "cell_type": "code",
   "execution_count": null,
   "metadata": {},
   "outputs": [],
   "source": [
    "#Re-set columns \n",
    "sp1500['Date'] = pd.to_datetime(sp1500['Date'])\n",
    "sp1500_2018_Hurricanes = sp1500[(sp1500['Date'] >= '6/1/2018') & (sp1500['Date'] <= '11/30/2018')]\n",
    "sp1500_2018_Hurricanes = sp1500_2018_Hurricanes.reset_index(drop=True)\n",
    "\n",
    "sp1500_2018_Hurricanes.head()\n",
    "\n",
    "\n",
    "\n",
    "\n"
   ]
  },
  {
   "cell_type": "code",
   "execution_count": null,
   "metadata": {},
   "outputs": [],
   "source": []
  },
  {
   "cell_type": "code",
   "execution_count": null,
   "metadata": {},
   "outputs": [],
   "source": [
    "# Plotting 2018 graph\n",
    "for x in range(1, 12):\n",
    "    plt.plot(sp1500_2018_Hurricanes['Date'], sp1500_2018_Hurricanes.iloc[:,x])\n",
    "\n",
    "# titles and labels:\n",
    "\n",
    "plt.legend()\n",
    "plt.ylabel('Total Return')\n",
    "plt.xlabel('Date (2018)')\n",
    "plt.title('Change in Total Return over 2018')\n",
    "plt.grid()\n",
    "plt.legend(loc='center left', bbox_to_anchor=(1.0, 0.5))\n",
    "plt.rcParams[\"figure.figsize\"] = (30,3)\n",
    "plt.show()\n",
    "\n"
   ]
  },
  {
   "cell_type": "code",
   "execution_count": null,
   "metadata": {},
   "outputs": [],
   "source": [
    "#Set dates for 2018 Hurricane Chris\n",
    "sp1500_2018_chris = sp1500[(sp1500['Date'] >= '6/15/2018') & (sp1500['Date'] <= '8/2/2018')]\n",
    "sp1500_2018_chris = sp1500_2018_chris.reset_index(drop=True)\n",
    "\n",
    "#Set dates for 2018 Hurricane Florence\n",
    "sp1500_2018_florence = sp1500[(sp1500['Date'] >= '8/10/2018') & (sp1500['Date'] <= '10/8/2018')]\n",
    "sp1500_2018_florence = sp1500_2018_florence.reset_index(drop=True)\n",
    "\n",
    "#Set dates 2018 Hurricane Michael\n",
    "sp1500_2018_michael = sp1500[(sp1500['Date'] >= '9/16/2018') & (sp1500['Date'] <= '11/2/2018')]\n",
    "sp1500_2018_michael = sp1500_2018_michael.reset_index(drop=True)\n",
    "\n",
    "# Plot Chris\n",
    "chris = plt.subplot(311, sharex=chris, sharey=chris)\n",
    "for x in range(1, 12):\n",
    "    plt.plot(sp1500_2018_chris['Date'], sp1500_2018_chris.iloc[:,x])\n",
    "    \n",
    "# Plot Florence\n",
    "florence = plt.subplot(312, sharex=chris, sharey=chris)\n",
    "for x in range(1, 12):\n",
    "    plt.plot(sp1500_2018_florence['Date'], sp1500_2018_florence.iloc[:,x])\n",
    "\n",
    "# Plot Michael\n",
    "michael = plt.subplot(313, sharex=chris, sharey=chris)\n",
    "for x in range(1, 12):\n",
    "    plt.plot(sp1500_2018_michael['Date'], sp1500_2018_michael.iloc[:,x])\n",
    "    \n",
    "\n",
    "# titles and labels:\n",
    "\n",
    "plt.legend()\n",
    "plt.ylabel('Total Return')\n",
    "plt.xlabel('Date (2018)')\n",
    "plt.title('Change in Total Return during 2018 Hurricanes')\n",
    "plt.grid()\n",
    "plt.legend(loc='center left', bbox_to_anchor=(1.0, 0.5))\n",
    "plt.rcParams[\"figure.figsize\"] = (30,3)\n",
    "plt.show()\n"
   ]
  },
  {
   "cell_type": "markdown",
   "metadata": {},
   "source": [
    "#Plot 2018 Hurricane Florence\n",
    "sp1500_2018_florence = sp1500[(sp1500['Date'] >= '8/10/2018') & (sp1500['Date'] <= '10/8/2018')]\n",
    "sp1500_2018_florence = sp1500_2018_florence.reset_index(drop=True)\n",
    "\n",
    "# Plot Florence\n",
    "for x in range(1, 12):\n",
    "    plt.plot(sp1500_2018_florence['Date'], sp1500_2018_florence.iloc[:,x])\n",
    "\n",
    "# titles and labels:\n",
    "\n",
    "plt.legend()\n",
    "plt.ylabel('Total Return')\n",
    "plt.xlabel('Date (2018)')\n",
    "plt.title('Change in Total Return over during Hurricane Florence in 2018')\n",
    "plt.grid()\n",
    "plt.legend(loc='center left', bbox_to_anchor=(1.0, 0.5))\n",
    "plt.rcParams[\"figure.figsize\"] = (30,3)\n",
    "plt.show()"
   ]
  },
  {
   "cell_type": "markdown",
   "metadata": {},
   "source": [
    "# Set dates 2018 Hurricane Michael\n",
    "\n",
    "sp1500_2018_michael = sp1500[(sp1500['Date'] >= '9/16/2018') & (sp1500['Date'] <= '11/2/2018')]\n",
    "sp1500_2018_michael = sp1500_2018_michael.reset_index(drop=True)\n",
    "\n",
    "\n",
    "# Plot Chris\n",
    "for x in range(1, 12):\n",
    "    plt.plot(sp1500_2018_michael['Date'], sp1500_2018_michael.iloc[:,x])\n",
    "\n",
    "# titles and labels:\n",
    "\n",
    "plt.legend()\n",
    "plt.ylabel('Total Return')\n",
    "plt.xlabel('Date (2018)')\n",
    "plt.title('Change in Total Return over during Hurricane Michael 2018')\n",
    "plt.grid()\n",
    "plt.legend(loc='center left', bbox_to_anchor=(1.0, 0.5))\n",
    "plt.rcParams[\"figure.figsize\"] = (30,3)\n",
    "plt.show()"
   ]
  },
  {
   "cell_type": "code",
   "execution_count": null,
   "metadata": {},
   "outputs": [],
   "source": []
  }
 ],
 "metadata": {
  "kernelspec": {
   "display_name": "Python (PythonData)",
   "language": "python",
   "name": "pythondata"
  },
  "language_info": {
   "codemirror_mode": {
    "name": "ipython",
    "version": 3
   },
   "file_extension": ".py",
   "mimetype": "text/x-python",
   "name": "python",
   "nbconvert_exporter": "python",
   "pygments_lexer": "ipython3",
   "version": "3.7.0"
  }
 },
 "nbformat": 4,
 "nbformat_minor": 2
}
